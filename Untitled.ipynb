{
 "cells": [
  {
   "cell_type": "code",
   "execution_count": 2,
   "id": "3b22c819-c990-4060-ad6c-a2233bae518c",
   "metadata": {},
   "outputs": [
    {
     "name": "stdout",
     "output_type": "stream",
     "text": [
      "5\n"
     ]
    }
   ],
   "source": [
    "x = 3\n",
    "print(x)"
   ]
  },
  {
   "cell_type": "code",
   "execution_count": 16,
   "id": "c1138f8e-d5f0-4158-950b-10be9d441cf2",
   "metadata": {},
   "outputs": [
    {
     "name": "stdout",
     "output_type": "stream",
     "text": [
      "0\n",
      "3\n"
     ]
    }
   ],
   "source": [
    "for i in range(0,x,3):\n",
    "    print(i)"
   ]
  },
  {
   "cell_type": "code",
   "execution_count": 13,
   "id": "4d740602-f96f-4587-bc02-4b5f22338329",
   "metadata": {},
   "outputs": [],
   "source": [
    "for j in range(10,2):\n",
    "    print(j)\n",
    "    "
   ]
  },
  {
   "cell_type": "code",
   "execution_count": 29,
   "id": "01940fa2-811b-40d0-b606-d659c6a810ce",
   "metadata": {},
   "outputs": [
    {
     "name": "stdout",
     "output_type": "stream",
     "text": [
      "50.5\n"
     ]
    }
   ],
   "source": [
    "mySum = 0\n",
    "\n",
    "for j in range(1,101):\n",
    "    mySum = mySum + j\n",
    "\n",
    "average = mySum/100\n",
    "print(average)"
   ]
  },
  {
   "cell_type": "code",
   "execution_count": 19,
   "id": "edf8e076-79f3-47ff-ba2c-7a88db577af0",
   "metadata": {},
   "outputs": [],
   "source": [
    "import numpy as np"
   ]
  },
  {
   "cell_type": "code",
   "execution_count": 30,
   "id": "f4ca6974-65a9-478b-953a-68bde9e02e3d",
   "metadata": {},
   "outputs": [
    {
     "name": "stdout",
     "output_type": "stream",
     "text": [
      "[  1   2   3   4   5   6   7   8   9  10  11  12  13  14  15  16  17  18\n",
      "  19  20  21  22  23  24  25  26  27  28  29  30  31  32  33  34  35  36\n",
      "  37  38  39  40  41  42  43  44  45  46  47  48  49  50  51  52  53  54\n",
      "  55  56  57  58  59  60  61  62  63  64  65  66  67  68  69  70  71  72\n",
      "  73  74  75  76  77  78  79  80  81  82  83  84  85  86  87  88  89  90\n",
      "  91  92  93  94  95  96  97  98  99 100]\n",
      "50.5\n"
     ]
    }
   ],
   "source": [
    "x = np.arange(1,101)\n",
    "print(x)\n",
    "average = np.mean(x)\n",
    "print(average)"
   ]
  },
  {
   "cell_type": "code",
   "execution_count": 32,
   "id": "e2c49c5b-e58a-405c-8e75-10bded7fdf45",
   "metadata": {},
   "outputs": [
    {
     "name": "stdout",
     "output_type": "stream",
     "text": [
      "[0, 1, 2, 3, 4, 5, 6, 7, 8, 9]\n"
     ]
    }
   ],
   "source": [
    "x = []\n",
    "for j in range(10):\n",
    "    x.append(j)\n",
    "\n",
    "print(x)"
   ]
  },
  {
   "cell_type": "code",
   "execution_count": 34,
   "id": "9fe4bbcf-285d-4898-8c0b-69b03eece770",
   "metadata": {},
   "outputs": [],
   "source": [
    "def doubleMe(x):\n",
    "    return x+x\n",
    "\n",
    "def doubleUs(x, y):\n",
    "    return x+x, y+y"
   ]
  },
  {
   "cell_type": "code",
   "execution_count": 37,
   "id": "932fb68e-7bec-46d0-a919-0322366715ab",
   "metadata": {},
   "outputs": [
    {
     "name": "stdout",
     "output_type": "stream",
     "text": [
      "(10, 20)\n"
     ]
    }
   ],
   "source": [
    "print(doubleUs(5,10))"
   ]
  },
  {
   "cell_type": "code",
   "execution_count": null,
   "id": "3ec0e67a-d313-49fa-92b3-38367bb073b3",
   "metadata": {},
   "outputs": [],
   "source": [
    "class asteroid:\n",
    "    def __init__(self, x, y, heading, velocity): \n",
    "        self.material = \"rocky\"\n",
    "        self.size = 5\n",
    "        "
   ]
  }
 ],
 "metadata": {
  "kernelspec": {
   "display_name": "Python [conda env:base] *",
   "language": "python",
   "name": "conda-base-py"
  },
  "language_info": {
   "codemirror_mode": {
    "name": "ipython",
    "version": 3
   },
   "file_extension": ".py",
   "mimetype": "text/x-python",
   "name": "python",
   "nbconvert_exporter": "python",
   "pygments_lexer": "ipython3",
   "version": "3.13.5"
  }
 },
 "nbformat": 4,
 "nbformat_minor": 5
}
